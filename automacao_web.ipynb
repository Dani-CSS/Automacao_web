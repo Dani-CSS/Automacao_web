{
 "cells": [
  {
   "cell_type": "markdown",
   "id": "f7d4367a",
   "metadata": {},
   "source": [
    "Automação Web Python e Selenium\n",
    ".Selenium\n",
    ".Webdriver"
   ]
  },
  {
   "cell_type": "code",
   "execution_count": 19,
   "id": "75259a55",
   "metadata": {},
   "outputs": [],
   "source": [
    "from selenium import webdriver\n",
    "from webdriver_manager.chrome import ChromeDriverManager\n",
    "from selenium.webdriver.chrome.service import Service\n",
    "\n",
    "#Código para o webdriver acessar a versão atual do navegador chrome\n",
    "\n",
    "service = Service(ChromeDriverManager().install())\n",
    "\n",
    "navegador = webdriver.Chrome(service=service)"
   ]
  },
  {
   "cell_type": "code",
   "execution_count": 20,
   "id": "70d13088",
   "metadata": {},
   "outputs": [],
   "source": [
    "import pandas as pd\n",
    "\n",
    "from selenium.webdriver.common.by import By\n",
    "from selenium.webdriver.common.keys import Keys\n",
    "\n"
   ]
  },
  {
   "cell_type": "code",
   "execution_count": 21,
   "id": "c396ed14",
   "metadata": {},
   "outputs": [],
   "source": [
    "#Acessando o site\n",
    "navegador.get(\"https://www.saucedemo.com/\")\n",
    "\n",
    "#Logando \n",
    "navegador.find_element('xpath','//*[@id=\"user-name\"]').send_keys(\"standard_user\")\n",
    "\n",
    "navegador.find_element('xpath', '//*[@id=\"password\"]').send_keys(\"secret_sauce\")\n",
    "\n",
    "navegador.find_element('xpath', '//*[@id=\"login-button\"]').click()\n",
    "\n",
    "#Adicionando itens ao carrinho\n",
    "navegador.find_element('xpath', '//*[@id=\"add-to-cart-sauce-labs-backpack\"]').click()\n",
    "navegador.find_element('xpath', '//*[@id=\"add-to-cart-sauce-labs-fleece-jacket\"]' ).click()\n",
    "\n",
    "#Visualizando o carrinho\n",
    "navegador.find_element('xpath', '//*[@id=\"shopping_cart_container\"]/a').click()\n",
    "\n",
    "#finalizando a compra\n",
    "navegador.find_element('xpath', '//*[@id=\"checkout\"]').click()\n",
    "navegador.find_element('xpath', '//*[@id=\"first-name\"]').send_keys(\"Daniele\")\n",
    "navegador.find_element('xpath', '//*[@id=\"last-name\"]').send_keys(\"Santos\")\n",
    "navegador.find_element('xpath', '//*[@id=\"postal-code\"]').send_keys(\"72878012\")\n",
    "navegador.find_element('xpath', '//*[@id=\"continue\"]').click()\n",
    "navegador.find_element('xpath', '//*[@id=\"finish\"]').click()\n"
   ]
  },
  {
   "cell_type": "code",
   "execution_count": null,
   "id": "51eb4565",
   "metadata": {},
   "outputs": [],
   "source": []
  },
  {
   "cell_type": "code",
   "execution_count": null,
   "id": "d1f163c8",
   "metadata": {},
   "outputs": [],
   "source": []
  }
 ],
 "metadata": {
  "kernelspec": {
   "display_name": "Python 3 (ipykernel)",
   "language": "python",
   "name": "python3"
  },
  "language_info": {
   "codemirror_mode": {
    "name": "ipython",
    "version": 3
   },
   "file_extension": ".py",
   "mimetype": "text/x-python",
   "name": "python",
   "nbconvert_exporter": "python",
   "pygments_lexer": "ipython3",
   "version": "3.11.5"
  }
 },
 "nbformat": 4,
 "nbformat_minor": 5
}
